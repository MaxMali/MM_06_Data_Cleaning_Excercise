{
 "cells": [
  {
   "cell_type": "markdown",
   "metadata": {
    "collapsed": true,
    "pycharm": {
     "name": "#%% md\n"
    }
   },
   "source": [
    "# Excercise 1\n",
    "## Data Cleaning Script"
   ]
  },
  {
   "cell_type": "markdown",
   "metadata": {},
   "source": [
    "Schritt 1: Datemsatz laden."
   ]
  },
  {
   "cell_type": "code",
   "execution_count": 1,
   "metadata": {
    "pycharm": {
     "name": "#%%\n"
    },
    "scrolled": true
   },
   "outputs": [],
   "source": [
    "%matplotlib inline\n",
    "import pandas as pd\n",
    "import matplotlib.pyplot as plt\n",
    "\n",
    "url = \"https://raw.githubusercontent.com/edlich/eternalrepo/master/DS-WAHLFACH/dsm-beuth-edl-demodata-dirty.csv\"\n",
    "df = pd.read_csv(url)"
   ]
  },
  {
   "cell_type": "markdown",
   "metadata": {},
   "source": [
    "# Strategie\n",
    "\n",
    "    Schritt 1: Ich korrigiere die NaN Werte in den Zeile 5,20,21, damit ich anschließend mit dropna() die kompletten NaN Zeilen rauswerfen kann.\n",
    "    \n",
    "    Schritt 2: Entfernung der Leerzeilen mit dropna() \n",
    "    \n",
    "    Schritt 3: Eine Zeile des doppelten Datensatzes mit dem Namen \"Eden Wace\" rauswerfen. \n",
    "    \n",
    "    Durch diese Schritte habe ich nun die richtige Anzahl von Zeilen und kann dadurch leicht die IDs mit einer Schleife anpassen.\n",
    "    \n",
    "    Schritt 4: IDs korregieren\n",
    "    \n",
    "    Schritt 5: Werte in der Spalte \"age\" korregieren. \n",
    "    \n",
    "    Schritt 5 kann man natürlich auch nach Schritt 1 durchführen, dass spielt für dieses Beispiel keine Rolle. Für mich war es wichtig, die kompletten NaN Zeilen mit einem Befehl rauszuwerfen und die ids leicht neuzusetzen. \n",
    "    \n",
    "Fertig. "
   ]
  },
  {
   "cell_type": "code",
   "execution_count": null,
   "metadata": {},
   "outputs": [],
   "source": [
    "\n",
    "df = df.drop_duplicates()\n",
    "df = df.dropna()"
   ]
  }
 ],
 "metadata": {
  "kernelspec": {
   "display_name": "Python 3",
   "language": "python",
   "name": "python3"
  },
  "language_info": {
   "codemirror_mode": {
    "name": "ipython",
    "version": 3
   },
   "file_extension": ".py",
   "mimetype": "text/x-python",
   "name": "python",
   "nbconvert_exporter": "python",
   "pygments_lexer": "ipython3",
   "version": "3.8.3"
  }
 },
 "nbformat": 4,
 "nbformat_minor": 1
}
